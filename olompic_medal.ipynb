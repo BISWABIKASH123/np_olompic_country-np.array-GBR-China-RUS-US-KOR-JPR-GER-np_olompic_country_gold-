{
  "nbformat": 4,
  "nbformat_minor": 0,
  "metadata": {
    "colab": {
      "provenance": [],
      "authorship_tag": "ABX9TyPw7mXFhQUIBB8ko2iZlGJT",
      "include_colab_link": true
    },
    "kernelspec": {
      "name": "python3",
      "display_name": "Python 3"
    },
    "language_info": {
      "name": "python"
    }
  },
  "cells": [
    {
      "cell_type": "markdown",
      "metadata": {
        "id": "view-in-github",
        "colab_type": "text"
      },
      "source": [
        "<a href=\"https://colab.research.google.com/github/Biswabikash123/np_olompic_country-np.array-GBR-China-RUS-US-KOR-JPR-GER-np_olompic_country_gold-/blob/main/olompic_medal.ipynb\" target=\"_parent\"><img src=\"https://colab.research.google.com/assets/colab-badge.svg\" alt=\"Open In Colab\"/></a>"
      ]
    },
    {
      "cell_type": "code",
      "execution_count": null,
      "metadata": {
        "id": "QHMtNiu5FG59"
      },
      "outputs": [],
      "source": [
        "import numpy as np"
      ]
    },
    {
      "cell_type": "code",
      "source": [
        "np_olompic_country = np.array(['GBR','China','RUS','US','KOR','JPR','GER'])\n",
        "np_olompic_country_gold = np.array([29,38,24,46,13,7,11])\n",
        "np_olompic_country_silver = np.array([17,28,25,28,8,14,11])\n",
        "np_olompic_country_bronz = np.array([19,22,32,29,17,14,11])"
      ],
      "metadata": {
        "id": "yCi6Zk28FX0J"
      },
      "execution_count": null,
      "outputs": []
    },
    {
      "cell_type": "code",
      "source": [
        "max_gold_index = np_olompic_country_gold.argmax()"
      ],
      "metadata": {
        "id": "JbAuWb0OGOMz"
      },
      "execution_count": null,
      "outputs": []
    },
    {
      "cell_type": "code",
      "source": [
        "country_with_max_gold = np_olompic_country[max_gold_index]"
      ],
      "metadata": {
        "id": "PZQFT08QGgwr"
      },
      "execution_count": null,
      "outputs": []
    },
    {
      "cell_type": "code",
      "source": [
        "country_with_max_gold"
      ],
      "metadata": {
        "colab": {
          "base_uri": "https://localhost:8080/",
          "height": 35
        },
        "id": "PHilvaGZGu_3",
        "outputId": "b98a30e6-9219-4e94-dc4d-91c9de1d6a6d"
      },
      "execution_count": null,
      "outputs": [
        {
          "output_type": "execute_result",
          "data": {
            "text/plain": [
              "'US'"
            ],
            "application/vnd.google.colaboratory.intrinsic+json": {
              "type": "string"
            }
          },
          "metadata": {},
          "execution_count": 37
        }
      ]
    },
    {
      "cell_type": "code",
      "source": [
        "print(np_olompic_country[np_olompic_country_gold > 20])"
      ],
      "metadata": {
        "colab": {
          "base_uri": "https://localhost:8080/"
        },
        "id": "zsWy_6cKHbJy",
        "outputId": "85cfa897-27a5-45a7-83f6-8ca1d2626b4c"
      },
      "execution_count": null,
      "outputs": [
        {
          "output_type": "stream",
          "name": "stdout",
          "text": [
            "['GBR' 'China' 'RUS' 'US']\n"
          ]
        }
      ]
    },
    {
      "cell_type": "code",
      "source": [
        "for i in range(len(np_olompic_country)):\n",
        "    gold_medal = np_olompic_country_gold[i]\n",
        "    country = np_olompic_country[i]\n",
        "    total_medal = np_olompic_country_bronz[i] + np_olompic_country_gold[i] + np_olompic_country_silver[i]\n",
        "    print('{},gold_medal{},total_medal{}'.format(country,gold_medal,total_medal))"
      ],
      "metadata": {
        "colab": {
          "base_uri": "https://localhost:8080/"
        },
        "id": "dsSA5S3CJdAC",
        "outputId": "f14e91a8-f48c-4cf0-fddd-1bd5373aa5c6"
      },
      "execution_count": null,
      "outputs": [
        {
          "output_type": "stream",
          "name": "stdout",
          "text": [
            "GBR,gold_medal29,total_medal65\n",
            "China,gold_medal38,total_medal88\n",
            "RUS,gold_medal24,total_medal81\n",
            "US,gold_medal46,total_medal103\n",
            "KOR,gold_medal13,total_medal38\n",
            "JPR,gold_medal7,total_medal35\n",
            "GER,gold_medal11,total_medal33\n"
          ]
        }
      ]
    },
    {
      "cell_type": "code",
      "source": [],
      "metadata": {
        "id": "9rG8LO01Rsrt"
      },
      "execution_count": null,
      "outputs": []
    }
  ]
}